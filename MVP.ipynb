{
 "cells": [
  {
   "cell_type": "code",
   "execution_count": 1,
   "id": "79e1ff71-fecc-4c56-a35a-470e8b48e080",
   "metadata": {},
   "outputs": [],
   "source": [
    "import openai\n",
    "from openai import AsyncOpenAI\n",
    "\n",
    "from template import STATE_TEMPLATE"
   ]
  },
  {
   "cell_type": "code",
   "execution_count": 2,
   "id": "680f0120-875c-49a3-bc81-ae143356ddce",
   "metadata": {},
   "outputs": [],
   "source": [
    "client = AsyncOpenAI()"
   ]
  },
  {
   "cell_type": "code",
   "execution_count": null,
   "id": "2f5beb03-179c-4026-8f75-831ff4efe530",
   "metadata": {},
   "outputs": [],
   "source": [
    "resp = await client.chat.completions.create(\n",
    "    model=\"o1-mini\",\n",
    "    # reasoning_effort=\"high\",\n",
    "    messages=[\n",
    "        # {\"role\": \"system\", \"content\": \"You are an assistant\"},\n",
    "        {\"role\": \"user\", \"content\": f\"\"\"\n",
    "Fill out the following template for a fictional country in 2022.\n",
    "\n",
    "## Values\n",
    "The government should have minimal involvement in the economy, allowing free markets to operate without interference.\n",
    "Strong yes\n",
    "\n",
    "Providing universal access to healthcare and education is a fundamental responsibility of the government.\n",
    "Strong no\n",
    "\n",
    "Individual liberties and personal freedoms should take precedence over collective societal goals.\n",
    "Strong yes\n",
    "\n",
    "A strong central government is necessary to unify the nation and effectively address national issues; regional or local authorities should have limited autonomy.\n",
    "Strong yes\n",
    "\n",
    "## Notes\n",
    "- Choose a unique but realistic name\n",
    "- Include a fictional primary ethnic group and use real groups for the others (e.g. White, Asian, etc)\n",
    "- Include a fictional country-specific religious group and use real religions for the others (e.g. Christian)\n",
    "- Use real life countries for import and export partners\n",
    "- Assume population of ~25 million\n",
    "- Assume ~500k sq km area\n",
    "- Be realistic and balanced based on what you know about the world. There are areas they do well and area that they dont.\n",
    "\n",
    "Put the result in a markdown codeblock.\n",
    "\n",
    "<template>\n",
    "{STATE_TEMPLATE}\n",
    "</template>\n",
    "\"\"\".strip()},\n",
    "    ],\n",
    ")\n",
    "resp"
   ]
  },
  {
   "cell_type": "code",
   "execution_count": null,
   "id": "24abe117-94d0-4fcc-8bbf-3b5054a9ae44",
   "metadata": {},
   "outputs": [],
   "source": [
    "print(resp.choices[0].message.content)"
   ]
  },
  {
   "cell_type": "code",
   "execution_count": null,
   "id": "0bcb2eab-707f-450d-8ad7-3436fe4fb4b2",
   "metadata": {},
   "outputs": [],
   "source": [
    "from IPython.display import display, Markdown, Latex\n",
    "display(Markdown(resp.choices[0].message.content))"
   ]
  },
  {
   "cell_type": "code",
   "execution_count": null,
   "id": "41dd3389-a7a3-42dc-b8a4-bc8a57837cc4",
   "metadata": {},
   "outputs": [],
   "source": []
  },
  {
   "cell_type": "code",
   "execution_count": null,
   "id": "a080ff91-4056-4a06-8a59-e100e44d7eb7",
   "metadata": {},
   "outputs": [],
   "source": []
  }
 ],
 "metadata": {
  "kernelspec": {
   "display_name": "Python 3 (ipykernel)",
   "language": "python",
   "name": "python3"
  },
  "language_info": {
   "codemirror_mode": {
    "name": "ipython",
    "version": 3
   },
   "file_extension": ".py",
   "mimetype": "text/x-python",
   "name": "python",
   "nbconvert_exporter": "python",
   "pygments_lexer": "ipython3",
   "version": "3.13.0"
  }
 },
 "nbformat": 4,
 "nbformat_minor": 5
}
